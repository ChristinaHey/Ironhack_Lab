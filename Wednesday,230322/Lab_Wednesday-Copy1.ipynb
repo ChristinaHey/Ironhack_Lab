{
 "cells": [
  {
   "cell_type": "markdown",
   "id": "e2baed8a",
   "metadata": {},
   "source": [
    "## Duel of Sorcerers\n"
   ]
  },
  {
   "cell_type": "code",
   "execution_count": 1,
   "id": "79feb061",
   "metadata": {},
   "outputs": [],
   "source": [
    "gandalf = [10, 11, 13, 30, 22, 11, 10, 33, 22, 22]\n",
    "saruman = [23, 66, 12, 43, 12, 10, 44, 23, 12, 17]"
   ]
  },
  {
   "cell_type": "code",
   "execution_count": 2,
   "id": "d156a986",
   "metadata": {},
   "outputs": [],
   "source": [
    "gandalf_wins = [0]\n",
    "saruman_wins = [0]"
   ]
  },
  {
   "cell_type": "code",
   "execution_count": 4,
   "id": "d02f16be",
   "metadata": {},
   "outputs": [
    {
     "data": {
      "text/plain": [
       "10"
      ]
     },
     "execution_count": 4,
     "metadata": {},
     "output_type": "execute_result"
    }
   ],
   "source": [
    "len(gandalf)"
   ]
  },
  {
   "cell_type": "code",
   "execution_count": null,
   "id": "b751a202",
   "metadata": {},
   "outputs": [],
   "source": []
  },
  {
   "cell_type": "code",
   "execution_count": 21,
   "id": "b4086e75",
   "metadata": {},
   "outputs": [],
   "source": [
    "for item in range(0,10):\n",
    "    if gandalf[item] > saruman[item]:\n",
    "        gandalf_wins_round+=1\n",
    "for item in range(0,10):\n",
    "    if gandalf[item] < saruman[item]:\n",
    "        saruman_wins_round+=1\n",
    "        \n"
   ]
  },
  {
   "cell_type": "code",
   "execution_count": 28,
   "id": "97e13f29",
   "metadata": {},
   "outputs": [
    {
     "ename": "SyntaxError",
     "evalue": "invalid syntax (2770151336.py, line 3)",
     "output_type": "error",
     "traceback": [
      "\u001b[0;36m  File \u001b[0;32m\"/var/folders/r9/4d41b7251kd4g8mywhld0w_80000gn/T/ipykernel_11809/2770151336.py\"\u001b[0;36m, line \u001b[0;32m3\u001b[0m\n\u001b[0;31m    Winner = [if gandalf_wins_round > saruman_wins_round]\u001b[0m\n\u001b[0m              ^\u001b[0m\n\u001b[0;31mSyntaxError\u001b[0m\u001b[0;31m:\u001b[0m invalid syntax\n"
     ]
    }
   ],
   "source": [
    "gandalf_wins_round = [item for item in range(0,10) if gandalf > saruman]\n",
    "saruman_wins_round = [item for item in range(0,10) if sarum > gandalf]\n",
    "Winner = [if gandalf_wins_round > saruman_wins_round]\n",
    "print(\"Gandalf wins\")"
   ]
  },
  {
   "cell_type": "code",
   "execution_count": 17,
   "id": "0850b801",
   "metadata": {},
   "outputs": [
    {
     "name": "stdout",
     "output_type": "stream",
     "text": [
      "19\n"
     ]
    }
   ],
   "source": [
    "print(gandalf_wins_round)"
   ]
  },
  {
   "cell_type": "code",
   "execution_count": 18,
   "id": "cf1547f9",
   "metadata": {},
   "outputs": [
    {
     "name": "stdout",
     "output_type": "stream",
     "text": [
      "13\n"
     ]
    }
   ],
   "source": [
    "print(saruman_wins_round)"
   ]
  },
  {
   "cell_type": "code",
   "execution_count": 19,
   "id": "0695d62b",
   "metadata": {},
   "outputs": [
    {
     "name": "stdout",
     "output_type": "stream",
     "text": [
      "Gandalf wins the round\n"
     ]
    }
   ],
   "source": [
    "if gandalf_wins_round > saruman_wins_round:\n",
    "    print(\"Gandalf wins the round\")\n",
    "elif saruman_wins_round > gandalf_wins_round:\n",
    "    print(\"Saruman wins the round\")\n",
    "else:\n",
    "    print(\"It's a tie\")"
   ]
  },
  {
   "cell_type": "code",
   "execution_count": 69,
   "id": "f7b67751",
   "metadata": {},
   "outputs": [],
   "source": [
    "POWER = {'Fireball': 50, \n",
    "    'Lightning bolt': 40, \n",
    "    'Magic arrow': 10, \n",
    "    'Black Tentacles': 25, \n",
    "    'Contagion': 45}"
   ]
  },
  {
   "cell_type": "code",
   "execution_count": 70,
   "id": "cd7eda5d",
   "metadata": {},
   "outputs": [],
   "source": [
    "gandalf=['Fireball', 'Lightning bolt', 'Lightning bolt', 'Magic arrow', 'Fireball', \n",
    "           'Magic arrow', 'Lightning bolt', 'Fireball', 'Fireball', 'Fireball']"
   ]
  },
  {
   "cell_type": "code",
   "execution_count": 71,
   "id": "9635e82b",
   "metadata": {},
   "outputs": [],
   "source": [
    "saruman=['Contagion', 'Contagion', 'Black Tentacles', 'Fireball', 'Black Tentacles', \n",
    "           'Lightning bolt', 'Magic arrow', 'Contagion', 'Magic arrow', 'Magic arrow']"
   ]
  },
  {
   "cell_type": "code",
   "execution_count": 34,
   "id": "7fbd3113",
   "metadata": {},
   "outputs": [],
   "source": [
    "gandalf_wins=(0)\n",
    "saruman_wins=(0)"
   ]
  },
  {
   "cell_type": "code",
   "execution_count": 72,
   "id": "d53a8757",
   "metadata": {},
   "outputs": [
    {
     "data": {
      "text/plain": [
       "dict_values([50, 40, 10, 25, 45])"
      ]
     },
     "execution_count": 72,
     "metadata": {},
     "output_type": "execute_result"
    }
   ],
   "source": [
    "POWER.values()"
   ]
  },
  {
   "cell_type": "code",
   "execution_count": 141,
   "id": "055b258b",
   "metadata": {},
   "outputs": [
    {
     "name": "stdout",
     "output_type": "stream",
     "text": [
      "[50, 40, 40, 10, 50, 10, 40, 50, 50, 50]\n"
     ]
    }
   ],
   "source": [
    "gandalf_power= []\n",
    "for item in gandalf:\n",
    "    gandalf_power.append(POWER[item])\n",
    "print(gandalf_power)"
   ]
  },
  {
   "cell_type": "code",
   "execution_count": 140,
   "id": "a00efe00",
   "metadata": {},
   "outputs": [
    {
     "name": "stdout",
     "output_type": "stream",
     "text": [
      "[45, 45, 25, 50, 25, 40, 10, 45, 10, 10]\n"
     ]
    }
   ],
   "source": [
    "saruman_power= []\n",
    "for item in saruman:\n",
    "    saruman_power.append(POWER[item])\n",
    "print(saruman_power)"
   ]
  },
  {
   "cell_type": "code",
   "execution_count": 88,
   "id": "34401473",
   "metadata": {},
   "outputs": [
    {
     "name": "stdout",
     "output_type": "stream",
     "text": [
      "[45, 45, 25, 50, 25, 40, 10, 45, 10, 10]\n"
     ]
    }
   ],
   "source": []
  },
  {
   "cell_type": "code",
   "execution_count": 135,
   "id": "845c651a",
   "metadata": {},
   "outputs": [],
   "source": [
    "gandalf_num_wins = []\n",
    "saruman_num_wins = []"
   ]
  },
  {
   "cell_type": "code",
   "execution_count": 152,
   "id": "720dd977",
   "metadata": {},
   "outputs": [
    {
     "name": "stdout",
     "output_type": "stream",
     "text": [
      "Gandalf wins\n"
     ]
    }
   ],
   "source": [
    "for item in range(len(saruman_power)):\n",
    "    if saruman_power[item] > gandalf_power[item]:\n",
    "        gandalf_num_wins=0\n",
    "        sarauman_num_wins+=1\n",
    "    else:\n",
    "        gandalf_num_wins+=1\n",
    "        sarauman_num_wins=0\n",
    "        \n",
    "    if gandalf_num_wins==3 or saruman_num_wins==3:\n",
    "        break\n",
    "    \n",
    "if gandalf_num_wins == 3:\n",
    "    print(\"Gandalf wins\")\n",
    "    \n",
    "else: \n",
    "    print(\"Saruman wins\")"
   ]
  },
  {
   "cell_type": "code",
   "execution_count": null,
   "id": "45a32922",
   "metadata": {},
   "outputs": [],
   "source": []
  },
  {
   "cell_type": "code",
   "execution_count": null,
   "id": "e28ef3ec",
   "metadata": {},
   "outputs": [],
   "source": []
  },
  {
   "cell_type": "code",
   "execution_count": null,
   "id": "540ea8ff",
   "metadata": {},
   "outputs": [],
   "source": []
  },
  {
   "cell_type": "code",
   "execution_count": null,
   "id": "9aeda330",
   "metadata": {},
   "outputs": [],
   "source": []
  },
  {
   "cell_type": "code",
   "execution_count": null,
   "id": "a1c12283",
   "metadata": {},
   "outputs": [],
   "source": []
  },
  {
   "cell_type": "code",
   "execution_count": null,
   "id": "5b5626fa",
   "metadata": {},
   "outputs": [],
   "source": []
  },
  {
   "cell_type": "code",
   "execution_count": 102,
   "id": "9a2ad89d",
   "metadata": {},
   "outputs": [],
   "source": []
  },
  {
   "cell_type": "code",
   "execution_count": null,
   "id": "8356ff03",
   "metadata": {},
   "outputs": [],
   "source": []
  },
  {
   "cell_type": "code",
   "execution_count": null,
   "id": "8532fd1b",
   "metadata": {},
   "outputs": [],
   "source": []
  },
  {
   "cell_type": "code",
   "execution_count": null,
   "id": "dcecffae",
   "metadata": {},
   "outputs": [],
   "source": [
    "import statistics as stats"
   ]
  },
  {
   "cell_type": "code",
   "execution_count": 103,
   "id": "b07ebb3e",
   "metadata": {},
   "outputs": [
    {
     "data": {
      "text/plain": [
       "30.5"
      ]
     },
     "execution_count": 103,
     "metadata": {},
     "output_type": "execute_result"
    }
   ],
   "source": [
    "stats.mean(saruman_power)"
   ]
  },
  {
   "cell_type": "code",
   "execution_count": 105,
   "id": "a2d727b1",
   "metadata": {},
   "outputs": [
    {
     "data": {
      "text/plain": [
       "39"
      ]
     },
     "execution_count": 105,
     "metadata": {},
     "output_type": "execute_result"
    }
   ],
   "source": [
    "stats.mean(gandalf_power)"
   ]
  },
  {
   "cell_type": "code",
   "execution_count": 153,
   "id": "872808fd",
   "metadata": {},
   "outputs": [
    {
     "data": {
      "text/plain": [
       "16.40629960309962"
      ]
     },
     "execution_count": 153,
     "metadata": {},
     "output_type": "execute_result"
    }
   ],
   "source": [
    "stats.stdev(saruman_power)"
   ]
  },
  {
   "cell_type": "code",
   "execution_count": 154,
   "id": "035c1e7d",
   "metadata": {},
   "outputs": [
    {
     "data": {
      "text/plain": [
       "15.951314818673865"
      ]
     },
     "execution_count": 154,
     "metadata": {},
     "output_type": "execute_result"
    }
   ],
   "source": [
    "stats.stdev(gandalf_power)"
   ]
  },
  {
   "cell_type": "code",
   "execution_count": null,
   "id": "88d3d7fa",
   "metadata": {},
   "outputs": [],
   "source": []
  },
  {
   "cell_type": "code",
   "execution_count": null,
   "id": "cd747043",
   "metadata": {},
   "outputs": [],
   "source": []
  }
 ],
 "metadata": {
  "kernelspec": {
   "display_name": "Python 3 (ipykernel)",
   "language": "python",
   "name": "python3"
  },
  "language_info": {
   "codemirror_mode": {
    "name": "ipython",
    "version": 3
   },
   "file_extension": ".py",
   "mimetype": "text/x-python",
   "name": "python",
   "nbconvert_exporter": "python",
   "pygments_lexer": "ipython3",
   "version": "3.9.7"
  }
 },
 "nbformat": 4,
 "nbformat_minor": 5
}
