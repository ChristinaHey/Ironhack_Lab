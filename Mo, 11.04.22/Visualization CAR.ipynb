{
 "cells": [
  {
   "cell_type": "markdown",
   "id": "a92ded0b",
   "metadata": {},
   "source": [
    "## Datetime format (continuation cleaned dataset)\n",
    "- Extract the months from the dataset\n",
    "- store in a separate column\n",
    "- Then filter the data to show only the information for the first quarter (January, February and March)\n",
    "- Hint: If data from March does not exist, consider only January and February."
   ]
  },
  {
   "cell_type": "code",
   "execution_count": 7,
   "id": "6c9fa3f5",
   "metadata": {},
   "outputs": [
    {
     "ename": "NameError",
     "evalue": "name 'CA_df' is not defined",
     "output_type": "error",
     "traceback": [
      "\u001b[0;31m---------------------------------------------------------------------------\u001b[0m",
      "\u001b[0;31mNameError\u001b[0m                                 Traceback (most recent call last)",
      "Input \u001b[0;32mIn [7]\u001b[0m, in \u001b[0;36m<cell line: 1>\u001b[0;34m()\u001b[0m\n\u001b[0;32m----> 1\u001b[0m \u001b[43mCA_df\u001b[49m\n",
      "\u001b[0;31mNameError\u001b[0m: name 'CA_df' is not defined"
     ]
    }
   ],
   "source": [
    "CA_df"
   ]
  },
  {
   "cell_type": "code",
   "execution_count": 8,
   "id": "05bfbd02",
   "metadata": {},
   "outputs": [
    {
     "ename": "NameError",
     "evalue": "name 'CA_df' is not defined",
     "output_type": "error",
     "traceback": [
      "\u001b[0;31m---------------------------------------------------------------------------\u001b[0m",
      "\u001b[0;31mNameError\u001b[0m                                 Traceback (most recent call last)",
      "Input \u001b[0;32mIn [8]\u001b[0m, in \u001b[0;36m<cell line: 1>\u001b[0;34m()\u001b[0m\n\u001b[0;32m----> 1\u001b[0m Extracted_Month\u001b[38;5;241m=\u001b[39m\u001b[43mCA_df\u001b[49m[\u001b[38;5;124m'\u001b[39m\u001b[38;5;124meffective_to_date\u001b[39m\u001b[38;5;124m'\u001b[39m]\u001b[38;5;241m.\u001b[39mstr[\u001b[38;5;241m0\u001b[39m]\n",
      "\u001b[0;31mNameError\u001b[0m: name 'CA_df' is not defined"
     ]
    }
   ],
   "source": [
    "Extracted_Month=CA_df['effective_to_date'].str[0]"
   ]
  },
  {
   "cell_type": "markdown",
   "id": "c7e4d57f",
   "metadata": {},
   "source": [
    "## Car Insurance Viszalization\n",
    "### Preperation\n",
    "\n",
    "1. Import and Concatenate\n",
    "2. Load Data\n",
    "3. Overview Data"
   ]
  },
  {
   "cell_type": "code",
   "execution_count": 13,
   "id": "486a52cc",
   "metadata": {},
   "outputs": [],
   "source": [
    "import numpy as np\n",
    "import pandas as pd\n",
    "import matplotlib.pyplot as plt\n",
    "%matplotlib inline\n",
    "import seaborn as sns\n",
    "import statsmodels.api as sm\n",
    "from scipy.stats import boxcox\n",
    "\n",
    "pd.options.display.max_rows = 50"
   ]
  },
  {
   "cell_type": "code",
   "execution_count": 14,
   "id": "0744272f",
   "metadata": {},
   "outputs": [
    {
     "ename": "FileNotFoundError",
     "evalue": "[Errno 2] No such file or directory: 'Data_Marketing_Customer_Analysis_Round3.csv'",
     "output_type": "error",
     "traceback": [
      "\u001b[0;31m---------------------------------------------------------------------------\u001b[0m",
      "\u001b[0;31mFileNotFoundError\u001b[0m                         Traceback (most recent call last)",
      "Input \u001b[0;32mIn [14]\u001b[0m, in \u001b[0;36m<cell line: 1>\u001b[0;34m()\u001b[0m\n\u001b[0;32m----> 1\u001b[0m file1 \u001b[38;5;241m=\u001b[39m \u001b[43mpd\u001b[49m\u001b[38;5;241;43m.\u001b[39;49m\u001b[43mread_csv\u001b[49m\u001b[43m(\u001b[49m\u001b[38;5;124;43m'\u001b[39;49m\u001b[38;5;124;43mData_Marketing_Customer_Analysis_Round3.csv\u001b[39;49m\u001b[38;5;124;43m'\u001b[39;49m\u001b[43m)\u001b[49m\n",
      "File \u001b[0;32m~/opt/anaconda3/envs/DA_Env/lib/python3.9/site-packages/pandas/util/_decorators.py:311\u001b[0m, in \u001b[0;36mdeprecate_nonkeyword_arguments.<locals>.decorate.<locals>.wrapper\u001b[0;34m(*args, **kwargs)\u001b[0m\n\u001b[1;32m    305\u001b[0m \u001b[38;5;28;01mif\u001b[39;00m \u001b[38;5;28mlen\u001b[39m(args) \u001b[38;5;241m>\u001b[39m num_allow_args:\n\u001b[1;32m    306\u001b[0m     warnings\u001b[38;5;241m.\u001b[39mwarn(\n\u001b[1;32m    307\u001b[0m         msg\u001b[38;5;241m.\u001b[39mformat(arguments\u001b[38;5;241m=\u001b[39marguments),\n\u001b[1;32m    308\u001b[0m         \u001b[38;5;167;01mFutureWarning\u001b[39;00m,\n\u001b[1;32m    309\u001b[0m         stacklevel\u001b[38;5;241m=\u001b[39mstacklevel,\n\u001b[1;32m    310\u001b[0m     )\n\u001b[0;32m--> 311\u001b[0m \u001b[38;5;28;01mreturn\u001b[39;00m \u001b[43mfunc\u001b[49m\u001b[43m(\u001b[49m\u001b[38;5;241;43m*\u001b[39;49m\u001b[43margs\u001b[49m\u001b[43m,\u001b[49m\u001b[43m \u001b[49m\u001b[38;5;241;43m*\u001b[39;49m\u001b[38;5;241;43m*\u001b[39;49m\u001b[43mkwargs\u001b[49m\u001b[43m)\u001b[49m\n",
      "File \u001b[0;32m~/opt/anaconda3/envs/DA_Env/lib/python3.9/site-packages/pandas/io/parsers/readers.py:680\u001b[0m, in \u001b[0;36mread_csv\u001b[0;34m(filepath_or_buffer, sep, delimiter, header, names, index_col, usecols, squeeze, prefix, mangle_dupe_cols, dtype, engine, converters, true_values, false_values, skipinitialspace, skiprows, skipfooter, nrows, na_values, keep_default_na, na_filter, verbose, skip_blank_lines, parse_dates, infer_datetime_format, keep_date_col, date_parser, dayfirst, cache_dates, iterator, chunksize, compression, thousands, decimal, lineterminator, quotechar, quoting, doublequote, escapechar, comment, encoding, encoding_errors, dialect, error_bad_lines, warn_bad_lines, on_bad_lines, delim_whitespace, low_memory, memory_map, float_precision, storage_options)\u001b[0m\n\u001b[1;32m    665\u001b[0m kwds_defaults \u001b[38;5;241m=\u001b[39m _refine_defaults_read(\n\u001b[1;32m    666\u001b[0m     dialect,\n\u001b[1;32m    667\u001b[0m     delimiter,\n\u001b[0;32m   (...)\u001b[0m\n\u001b[1;32m    676\u001b[0m     defaults\u001b[38;5;241m=\u001b[39m{\u001b[38;5;124m\"\u001b[39m\u001b[38;5;124mdelimiter\u001b[39m\u001b[38;5;124m\"\u001b[39m: \u001b[38;5;124m\"\u001b[39m\u001b[38;5;124m,\u001b[39m\u001b[38;5;124m\"\u001b[39m},\n\u001b[1;32m    677\u001b[0m )\n\u001b[1;32m    678\u001b[0m kwds\u001b[38;5;241m.\u001b[39mupdate(kwds_defaults)\n\u001b[0;32m--> 680\u001b[0m \u001b[38;5;28;01mreturn\u001b[39;00m \u001b[43m_read\u001b[49m\u001b[43m(\u001b[49m\u001b[43mfilepath_or_buffer\u001b[49m\u001b[43m,\u001b[49m\u001b[43m \u001b[49m\u001b[43mkwds\u001b[49m\u001b[43m)\u001b[49m\n",
      "File \u001b[0;32m~/opt/anaconda3/envs/DA_Env/lib/python3.9/site-packages/pandas/io/parsers/readers.py:575\u001b[0m, in \u001b[0;36m_read\u001b[0;34m(filepath_or_buffer, kwds)\u001b[0m\n\u001b[1;32m    572\u001b[0m _validate_names(kwds\u001b[38;5;241m.\u001b[39mget(\u001b[38;5;124m\"\u001b[39m\u001b[38;5;124mnames\u001b[39m\u001b[38;5;124m\"\u001b[39m, \u001b[38;5;28;01mNone\u001b[39;00m))\n\u001b[1;32m    574\u001b[0m \u001b[38;5;66;03m# Create the parser.\u001b[39;00m\n\u001b[0;32m--> 575\u001b[0m parser \u001b[38;5;241m=\u001b[39m \u001b[43mTextFileReader\u001b[49m\u001b[43m(\u001b[49m\u001b[43mfilepath_or_buffer\u001b[49m\u001b[43m,\u001b[49m\u001b[43m \u001b[49m\u001b[38;5;241;43m*\u001b[39;49m\u001b[38;5;241;43m*\u001b[39;49m\u001b[43mkwds\u001b[49m\u001b[43m)\u001b[49m\n\u001b[1;32m    577\u001b[0m \u001b[38;5;28;01mif\u001b[39;00m chunksize \u001b[38;5;129;01mor\u001b[39;00m iterator:\n\u001b[1;32m    578\u001b[0m     \u001b[38;5;28;01mreturn\u001b[39;00m parser\n",
      "File \u001b[0;32m~/opt/anaconda3/envs/DA_Env/lib/python3.9/site-packages/pandas/io/parsers/readers.py:933\u001b[0m, in \u001b[0;36mTextFileReader.__init__\u001b[0;34m(self, f, engine, **kwds)\u001b[0m\n\u001b[1;32m    930\u001b[0m     \u001b[38;5;28mself\u001b[39m\u001b[38;5;241m.\u001b[39moptions[\u001b[38;5;124m\"\u001b[39m\u001b[38;5;124mhas_index_names\u001b[39m\u001b[38;5;124m\"\u001b[39m] \u001b[38;5;241m=\u001b[39m kwds[\u001b[38;5;124m\"\u001b[39m\u001b[38;5;124mhas_index_names\u001b[39m\u001b[38;5;124m\"\u001b[39m]\n\u001b[1;32m    932\u001b[0m \u001b[38;5;28mself\u001b[39m\u001b[38;5;241m.\u001b[39mhandles: IOHandles \u001b[38;5;241m|\u001b[39m \u001b[38;5;28;01mNone\u001b[39;00m \u001b[38;5;241m=\u001b[39m \u001b[38;5;28;01mNone\u001b[39;00m\n\u001b[0;32m--> 933\u001b[0m \u001b[38;5;28mself\u001b[39m\u001b[38;5;241m.\u001b[39m_engine \u001b[38;5;241m=\u001b[39m \u001b[38;5;28;43mself\u001b[39;49m\u001b[38;5;241;43m.\u001b[39;49m\u001b[43m_make_engine\u001b[49m\u001b[43m(\u001b[49m\u001b[43mf\u001b[49m\u001b[43m,\u001b[49m\u001b[43m \u001b[49m\u001b[38;5;28;43mself\u001b[39;49m\u001b[38;5;241;43m.\u001b[39;49m\u001b[43mengine\u001b[49m\u001b[43m)\u001b[49m\n",
      "File \u001b[0;32m~/opt/anaconda3/envs/DA_Env/lib/python3.9/site-packages/pandas/io/parsers/readers.py:1217\u001b[0m, in \u001b[0;36mTextFileReader._make_engine\u001b[0;34m(self, f, engine)\u001b[0m\n\u001b[1;32m   1213\u001b[0m     mode \u001b[38;5;241m=\u001b[39m \u001b[38;5;124m\"\u001b[39m\u001b[38;5;124mrb\u001b[39m\u001b[38;5;124m\"\u001b[39m\n\u001b[1;32m   1214\u001b[0m \u001b[38;5;66;03m# error: No overload variant of \"get_handle\" matches argument types\u001b[39;00m\n\u001b[1;32m   1215\u001b[0m \u001b[38;5;66;03m# \"Union[str, PathLike[str], ReadCsvBuffer[bytes], ReadCsvBuffer[str]]\"\u001b[39;00m\n\u001b[1;32m   1216\u001b[0m \u001b[38;5;66;03m# , \"str\", \"bool\", \"Any\", \"Any\", \"Any\", \"Any\", \"Any\"\u001b[39;00m\n\u001b[0;32m-> 1217\u001b[0m \u001b[38;5;28mself\u001b[39m\u001b[38;5;241m.\u001b[39mhandles \u001b[38;5;241m=\u001b[39m \u001b[43mget_handle\u001b[49m\u001b[43m(\u001b[49m\u001b[43m  \u001b[49m\u001b[38;5;66;43;03m# type: ignore[call-overload]\u001b[39;49;00m\n\u001b[1;32m   1218\u001b[0m \u001b[43m    \u001b[49m\u001b[43mf\u001b[49m\u001b[43m,\u001b[49m\n\u001b[1;32m   1219\u001b[0m \u001b[43m    \u001b[49m\u001b[43mmode\u001b[49m\u001b[43m,\u001b[49m\n\u001b[1;32m   1220\u001b[0m \u001b[43m    \u001b[49m\u001b[43mencoding\u001b[49m\u001b[38;5;241;43m=\u001b[39;49m\u001b[38;5;28;43mself\u001b[39;49m\u001b[38;5;241;43m.\u001b[39;49m\u001b[43moptions\u001b[49m\u001b[38;5;241;43m.\u001b[39;49m\u001b[43mget\u001b[49m\u001b[43m(\u001b[49m\u001b[38;5;124;43m\"\u001b[39;49m\u001b[38;5;124;43mencoding\u001b[39;49m\u001b[38;5;124;43m\"\u001b[39;49m\u001b[43m,\u001b[49m\u001b[43m \u001b[49m\u001b[38;5;28;43;01mNone\u001b[39;49;00m\u001b[43m)\u001b[49m\u001b[43m,\u001b[49m\n\u001b[1;32m   1221\u001b[0m \u001b[43m    \u001b[49m\u001b[43mcompression\u001b[49m\u001b[38;5;241;43m=\u001b[39;49m\u001b[38;5;28;43mself\u001b[39;49m\u001b[38;5;241;43m.\u001b[39;49m\u001b[43moptions\u001b[49m\u001b[38;5;241;43m.\u001b[39;49m\u001b[43mget\u001b[49m\u001b[43m(\u001b[49m\u001b[38;5;124;43m\"\u001b[39;49m\u001b[38;5;124;43mcompression\u001b[39;49m\u001b[38;5;124;43m\"\u001b[39;49m\u001b[43m,\u001b[49m\u001b[43m \u001b[49m\u001b[38;5;28;43;01mNone\u001b[39;49;00m\u001b[43m)\u001b[49m\u001b[43m,\u001b[49m\n\u001b[1;32m   1222\u001b[0m \u001b[43m    \u001b[49m\u001b[43mmemory_map\u001b[49m\u001b[38;5;241;43m=\u001b[39;49m\u001b[38;5;28;43mself\u001b[39;49m\u001b[38;5;241;43m.\u001b[39;49m\u001b[43moptions\u001b[49m\u001b[38;5;241;43m.\u001b[39;49m\u001b[43mget\u001b[49m\u001b[43m(\u001b[49m\u001b[38;5;124;43m\"\u001b[39;49m\u001b[38;5;124;43mmemory_map\u001b[39;49m\u001b[38;5;124;43m\"\u001b[39;49m\u001b[43m,\u001b[49m\u001b[43m \u001b[49m\u001b[38;5;28;43;01mFalse\u001b[39;49;00m\u001b[43m)\u001b[49m\u001b[43m,\u001b[49m\n\u001b[1;32m   1223\u001b[0m \u001b[43m    \u001b[49m\u001b[43mis_text\u001b[49m\u001b[38;5;241;43m=\u001b[39;49m\u001b[43mis_text\u001b[49m\u001b[43m,\u001b[49m\n\u001b[1;32m   1224\u001b[0m \u001b[43m    \u001b[49m\u001b[43merrors\u001b[49m\u001b[38;5;241;43m=\u001b[39;49m\u001b[38;5;28;43mself\u001b[39;49m\u001b[38;5;241;43m.\u001b[39;49m\u001b[43moptions\u001b[49m\u001b[38;5;241;43m.\u001b[39;49m\u001b[43mget\u001b[49m\u001b[43m(\u001b[49m\u001b[38;5;124;43m\"\u001b[39;49m\u001b[38;5;124;43mencoding_errors\u001b[39;49m\u001b[38;5;124;43m\"\u001b[39;49m\u001b[43m,\u001b[49m\u001b[43m \u001b[49m\u001b[38;5;124;43m\"\u001b[39;49m\u001b[38;5;124;43mstrict\u001b[39;49m\u001b[38;5;124;43m\"\u001b[39;49m\u001b[43m)\u001b[49m\u001b[43m,\u001b[49m\n\u001b[1;32m   1225\u001b[0m \u001b[43m    \u001b[49m\u001b[43mstorage_options\u001b[49m\u001b[38;5;241;43m=\u001b[39;49m\u001b[38;5;28;43mself\u001b[39;49m\u001b[38;5;241;43m.\u001b[39;49m\u001b[43moptions\u001b[49m\u001b[38;5;241;43m.\u001b[39;49m\u001b[43mget\u001b[49m\u001b[43m(\u001b[49m\u001b[38;5;124;43m\"\u001b[39;49m\u001b[38;5;124;43mstorage_options\u001b[39;49m\u001b[38;5;124;43m\"\u001b[39;49m\u001b[43m,\u001b[49m\u001b[43m \u001b[49m\u001b[38;5;28;43;01mNone\u001b[39;49;00m\u001b[43m)\u001b[49m\u001b[43m,\u001b[49m\n\u001b[1;32m   1226\u001b[0m \u001b[43m\u001b[49m\u001b[43m)\u001b[49m\n\u001b[1;32m   1227\u001b[0m \u001b[38;5;28;01massert\u001b[39;00m \u001b[38;5;28mself\u001b[39m\u001b[38;5;241m.\u001b[39mhandles \u001b[38;5;129;01mis\u001b[39;00m \u001b[38;5;129;01mnot\u001b[39;00m \u001b[38;5;28;01mNone\u001b[39;00m\n\u001b[1;32m   1228\u001b[0m f \u001b[38;5;241m=\u001b[39m \u001b[38;5;28mself\u001b[39m\u001b[38;5;241m.\u001b[39mhandles\u001b[38;5;241m.\u001b[39mhandle\n",
      "File \u001b[0;32m~/opt/anaconda3/envs/DA_Env/lib/python3.9/site-packages/pandas/io/common.py:789\u001b[0m, in \u001b[0;36mget_handle\u001b[0;34m(path_or_buf, mode, encoding, compression, memory_map, is_text, errors, storage_options)\u001b[0m\n\u001b[1;32m    784\u001b[0m \u001b[38;5;28;01melif\u001b[39;00m \u001b[38;5;28misinstance\u001b[39m(handle, \u001b[38;5;28mstr\u001b[39m):\n\u001b[1;32m    785\u001b[0m     \u001b[38;5;66;03m# Check whether the filename is to be opened in binary mode.\u001b[39;00m\n\u001b[1;32m    786\u001b[0m     \u001b[38;5;66;03m# Binary mode does not support 'encoding' and 'newline'.\u001b[39;00m\n\u001b[1;32m    787\u001b[0m     \u001b[38;5;28;01mif\u001b[39;00m ioargs\u001b[38;5;241m.\u001b[39mencoding \u001b[38;5;129;01mand\u001b[39;00m \u001b[38;5;124m\"\u001b[39m\u001b[38;5;124mb\u001b[39m\u001b[38;5;124m\"\u001b[39m \u001b[38;5;129;01mnot\u001b[39;00m \u001b[38;5;129;01min\u001b[39;00m ioargs\u001b[38;5;241m.\u001b[39mmode:\n\u001b[1;32m    788\u001b[0m         \u001b[38;5;66;03m# Encoding\u001b[39;00m\n\u001b[0;32m--> 789\u001b[0m         handle \u001b[38;5;241m=\u001b[39m \u001b[38;5;28;43mopen\u001b[39;49m\u001b[43m(\u001b[49m\n\u001b[1;32m    790\u001b[0m \u001b[43m            \u001b[49m\u001b[43mhandle\u001b[49m\u001b[43m,\u001b[49m\n\u001b[1;32m    791\u001b[0m \u001b[43m            \u001b[49m\u001b[43mioargs\u001b[49m\u001b[38;5;241;43m.\u001b[39;49m\u001b[43mmode\u001b[49m\u001b[43m,\u001b[49m\n\u001b[1;32m    792\u001b[0m \u001b[43m            \u001b[49m\u001b[43mencoding\u001b[49m\u001b[38;5;241;43m=\u001b[39;49m\u001b[43mioargs\u001b[49m\u001b[38;5;241;43m.\u001b[39;49m\u001b[43mencoding\u001b[49m\u001b[43m,\u001b[49m\n\u001b[1;32m    793\u001b[0m \u001b[43m            \u001b[49m\u001b[43merrors\u001b[49m\u001b[38;5;241;43m=\u001b[39;49m\u001b[43merrors\u001b[49m\u001b[43m,\u001b[49m\n\u001b[1;32m    794\u001b[0m \u001b[43m            \u001b[49m\u001b[43mnewline\u001b[49m\u001b[38;5;241;43m=\u001b[39;49m\u001b[38;5;124;43m\"\u001b[39;49m\u001b[38;5;124;43m\"\u001b[39;49m\u001b[43m,\u001b[49m\n\u001b[1;32m    795\u001b[0m \u001b[43m        \u001b[49m\u001b[43m)\u001b[49m\n\u001b[1;32m    796\u001b[0m     \u001b[38;5;28;01melse\u001b[39;00m:\n\u001b[1;32m    797\u001b[0m         \u001b[38;5;66;03m# Binary mode\u001b[39;00m\n\u001b[1;32m    798\u001b[0m         handle \u001b[38;5;241m=\u001b[39m \u001b[38;5;28mopen\u001b[39m(handle, ioargs\u001b[38;5;241m.\u001b[39mmode)\n",
      "\u001b[0;31mFileNotFoundError\u001b[0m: [Errno 2] No such file or directory: 'Data_Marketing_Customer_Analysis_Round3.csv'"
     ]
    }
   ],
   "source": [
    "file1 = pd.read_csv('Data_Marketing_Customer_Analysis_Round3.csv')"
   ]
  },
  {
   "cell_type": "code",
   "execution_count": 11,
   "id": "815c8027",
   "metadata": {},
   "outputs": [],
   "source": [
    "def load_original_data():\n",
    "    return pd.concat([file1], axis=0)"
   ]
  },
  {
   "cell_type": "code",
   "execution_count": 12,
   "id": "c4339cdb",
   "metadata": {},
   "outputs": [
    {
     "ename": "NameError",
     "evalue": "name 'file1' is not defined",
     "output_type": "error",
     "traceback": [
      "\u001b[0;31m---------------------------------------------------------------------------\u001b[0m",
      "\u001b[0;31mNameError\u001b[0m                                 Traceback (most recent call last)",
      "Input \u001b[0;32mIn [12]\u001b[0m, in \u001b[0;36m<cell line: 1>\u001b[0;34m()\u001b[0m\n\u001b[0;32m----> 1\u001b[0m CA_df\u001b[38;5;241m=\u001b[39m\u001b[43mload_original_data\u001b[49m\u001b[43m(\u001b[49m\u001b[43m)\u001b[49m\n",
      "Input \u001b[0;32mIn [11]\u001b[0m, in \u001b[0;36mload_original_data\u001b[0;34m()\u001b[0m\n\u001b[1;32m      1\u001b[0m \u001b[38;5;28;01mdef\u001b[39;00m \u001b[38;5;21mload_original_data\u001b[39m():\n\u001b[0;32m----> 2\u001b[0m     \u001b[38;5;28;01mreturn\u001b[39;00m pd\u001b[38;5;241m.\u001b[39mconcat([\u001b[43mfile1\u001b[49m], axis\u001b[38;5;241m=\u001b[39m\u001b[38;5;241m0\u001b[39m)\n",
      "\u001b[0;31mNameError\u001b[0m: name 'file1' is not defined"
     ]
    }
   ],
   "source": [
    "CA_df=load_original_data()"
   ]
  },
  {
   "cell_type": "code",
   "execution_count": null,
   "id": "2400e266",
   "metadata": {},
   "outputs": [],
   "source": [
    "CA_df"
   ]
  },
  {
   "cell_type": "code",
   "execution_count": null,
   "id": "59b0a01c",
   "metadata": {},
   "outputs": [],
   "source": [
    "CA_df.info()"
   ]
  },
  {
   "cell_type": "markdown",
   "id": "86b35112",
   "metadata": {},
   "source": [
    "## Activity 4\n",
    "### 4.1 Create new variables\n",
    "1. Create new numerical variable and set data type to int\n",
    "2. Create new categorical variable and set data type to object"
   ]
  },
  {
   "cell_type": "code",
   "execution_count": null,
   "id": "32942fbd",
   "metadata": {},
   "outputs": [],
   "source": [
    "CA_numerical=CA_df.select_dtypes('int')"
   ]
  },
  {
   "cell_type": "code",
   "execution_count": null,
   "id": "dd9e1012",
   "metadata": {},
   "outputs": [],
   "source": [
    "CA_categoricals=CA_df.select_dtypes('object')"
   ]
  },
  {
   "cell_type": "code",
   "execution_count": null,
   "id": "95fc5a97",
   "metadata": {},
   "outputs": [],
   "source": [
    "sns.pairplot(CA_df)"
   ]
  },
  {
   "cell_type": "markdown",
   "id": "157ef326",
   "metadata": {},
   "source": [
    "### 4.2 Normalitycheck\n",
    "1. Construct distribution plots for numerical variables\n",
    "2. Construct a histogram\n",
    "3. Show distributions of numerical variables that look like normal distributions\n",
    "\n",
    "**Displot created numercical variables with bins of 20**"
   ]
  },
  {
   "cell_type": "code",
   "execution_count": null,
   "id": "af6d06e3",
   "metadata": {},
   "outputs": [],
   "source": [
    "sns.displot((CA_numerical), bins=20)"
   ]
  },
  {
   "cell_type": "markdown",
   "id": "528e6d4c",
   "metadata": {},
   "source": [
    "**Construct histogram with numercial variables**"
   ]
  },
  {
   "cell_type": "code",
   "execution_count": null,
   "id": "22170117",
   "metadata": {},
   "outputs": [],
   "source": [
    "CA_numerical.hist(figsize=(12,12), color ='indigo')"
   ]
  },
  {
   "cell_type": "markdown",
   "id": "035a8d56",
   "metadata": {},
   "source": [
    "**Distribution of numerical variables**"
   ]
  },
  {
   "cell_type": "code",
   "execution_count": null,
   "id": "978bf94d",
   "metadata": {},
   "outputs": [],
   "source": [
    "fig, ax = plt.subplots(3,3,figsize=(12,12))\n",
    "\n",
    "ax[0,0].hist(CA_numerical['income'], color='red')\n",
    "ax[0,0].set_title(\"Income\")\n",
    "ax[0,1].hist(CA_numerical['customer_lifetime_value'], color='blue')\n",
    "ax[0,1].set_title(\"Customer livetime value\")\n",
    "ax[0,2].hist(CA_numerical['monthly_premium_auto'], color='yellow')\n",
    "ax[0,2].set_title('Monthly Premium Auto')\n",
    "ax[1,0].hist(CA_numerical['months_since_last_claim'], color='limegreen')\n",
    "ax[1,0].set_title('Monthly Premium Auto')\n",
    "ax[1,1].hist(CA_numerical['months_since_policy_inception'], color=\"darkorange\")\n",
    "ax[1,1].set_title('Monthly Since Policy Inception')\n",
    "ax[1,2].hist(CA_numerical['number_of_open_complaints'], color=\"violet\")\n",
    "ax[1,2].set_title('Number of open complaints')\n",
    "ax[2,1].hist(CA_numerical['number_of_policies'], color=\"cyan\")\n",
    "ax[2,1].set_title('Number of policies')\n",
    "ax[2,0].hist(CA_numerical['total_claim_amount'], color=\"crimson\")\n",
    "ax[2,0].set_title('total_claim_amount')\n"
   ]
  },
  {
   "cell_type": "markdown",
   "id": "34049a4b",
   "metadata": {},
   "source": [
    "**Playing arround**"
   ]
  },
  {
   "cell_type": "code",
   "execution_count": null,
   "id": "a44cd2e0",
   "metadata": {},
   "outputs": [],
   "source": [
    "ax = CA_numerical.income.plot(kind='kde')\n",
    "CA_numerical.income.plot(kind='hist', bins=40, ax=ax)\n",
    "ax.set_xlabel('Income')"
   ]
  },
  {
   "cell_type": "code",
   "execution_count": null,
   "id": "940bd0bd",
   "metadata": {},
   "outputs": [],
   "source": [
    "sns.histplot(CA_numerical['income'], kde=True, color ='blue')"
   ]
  },
  {
   "cell_type": "code",
   "execution_count": null,
   "id": "0fe9f47a",
   "metadata": {},
   "outputs": [],
   "source": [
    "sns.displot(CA_numerical['customer_lifetime_value'], kde=True)"
   ]
  },
  {
   "cell_type": "markdown",
   "id": "32a6ecb3",
   "metadata": {},
   "source": [
    "### 4.3 Multicollinerarity between features\n",
    "1. Create Heatmap for Correlationmatrix\n",
    "2. Display correlations and check for correlations over 0.9\n",
    "\n",
    "**Corrleationsmatrix**"
   ]
  },
  {
   "cell_type": "code",
   "execution_count": null,
   "id": "dee177fc",
   "metadata": {},
   "outputs": [],
   "source": [
    "corr = CA_numerical.corr()\n",
    "mask = np.zeros_like(corr)\n",
    "mask[np.triu_indices_from(mask)] = True\n",
    "with sns.axes_style(\"white\"):\n",
    "    f, ax = plt.subplots(figsize=(9, 7))\n",
    "    ax = sns.heatmap(corr, mask=mask,cmap='coolwarm', vmin=-1,vmax=1,annot=True, square=True)"
   ]
  },
  {
   "cell_type": "markdown",
   "id": "fc399528",
   "metadata": {},
   "source": [
    "**Corrleationscheck**"
   ]
  },
  {
   "cell_type": "code",
   "execution_count": null,
   "id": "9f3c2c39",
   "metadata": {
    "scrolled": true
   },
   "outputs": [],
   "source": [
    "CA_numerical.corr()"
   ]
  },
  {
   "cell_type": "markdown",
   "id": "7bc721d8",
   "metadata": {},
   "source": [
    "## Activity 5\n",
    "### 5.1 Show a plot of the total number of responses"
   ]
  },
  {
   "cell_type": "code",
   "execution_count": null,
   "id": "2bb9753a",
   "metadata": {},
   "outputs": [],
   "source": [
    "sns.countplot(x ='response', data = CA_df, palette ='pastel')"
   ]
  },
  {
   "cell_type": "markdown",
   "id": "163f6082",
   "metadata": {},
   "source": [
    "### 5.2 Show a plot of the response rate by the sales channel\n",
    "\n",
    "**Split the responses by sales channel**"
   ]
  },
  {
   "cell_type": "code",
   "execution_count": null,
   "id": "c6863738",
   "metadata": {},
   "outputs": [],
   "source": [
    "sns.countplot(data=CA_df,x='response',hue='sales_channel',palette ='Set2')\n",
    "plt.show()"
   ]
  },
  {
   "cell_type": "markdown",
   "id": "092ac043",
   "metadata": {},
   "source": [
    "### 5.3 Show a plot of the response rate by the total claim amount\n",
    "1. Bin total_claim_amount by 4 to check the individual ranges for further labeling\n",
    "2. Create new variable Labels_total_claim\n",
    "3. Create new variable and bin it for categorized total claims\n",
    "4. Split it by response "
   ]
  },
  {
   "cell_type": "code",
   "execution_count": null,
   "id": "31b46b4f",
   "metadata": {},
   "outputs": [],
   "source": [
    "Labels_total_claim=[\"up to 723,25 €\", \"between 723,25 and 1144,5 €\", \"between 1144,5 and 2169,75 €\", \"up to 2893 €\"]"
   ]
  },
  {
   "cell_type": "code",
   "execution_count": null,
   "id": "c4c54bf7",
   "metadata": {},
   "outputs": [],
   "source": [
    "Total_claim_cat=pd.cut(CA_df['total_claim_amount'], 4, labels=Labels_total_claim)"
   ]
  },
  {
   "cell_type": "code",
   "execution_count": null,
   "id": "d04fb825",
   "metadata": {},
   "outputs": [],
   "source": [
    "sns.countplot(data=CA_df,x='response', hue=Total_claim_cat, palette ='Set2')\n",
    "plt.show()"
   ]
  },
  {
   "cell_type": "markdown",
   "id": "f1d82aff",
   "metadata": {},
   "source": [
    "### 5.4 Show a plot of the response rate by income\n",
    "1. Create new variable and label the legend \n",
    "2. Create new variable and bin it by 4 to categorize income \n",
    "3. Split it by response"
   ]
  },
  {
   "cell_type": "code",
   "execution_count": null,
   "id": "0d121359",
   "metadata": {},
   "outputs": [],
   "source": [
    "Labels_income=[\"very low\", \"low\", \"high\", \"very high\"]"
   ]
  },
  {
   "cell_type": "code",
   "execution_count": null,
   "id": "b79a9c21",
   "metadata": {},
   "outputs": [],
   "source": [
    "Income_cat=pd.cut(CA_df['income'],4,labels=Labels_income)\n",
    "Income_cat"
   ]
  },
  {
   "cell_type": "code",
   "execution_count": null,
   "id": "050083b9",
   "metadata": {},
   "outputs": [],
   "source": [
    "CA_df"
   ]
  },
  {
   "cell_type": "code",
   "execution_count": null,
   "id": "efe58d59",
   "metadata": {},
   "outputs": [],
   "source": [
    "sns.countplot(data=CA_df,x='response',hue=Income_cat, \\\n",
    "              palette ='mako')\n",
    "plt.show()"
   ]
  },
  {
   "cell_type": "markdown",
   "id": "ad102aba",
   "metadata": {},
   "source": [
    "## Activitiy 6\n",
    "- One Hot/Label Encoding of the categorical variables in the categoricals data frame that you created in Activity 4.\n",
    "- for the first iteration, we will focus on the numericals data (numericals data frame) as our data source.\n",
    "- X-y split.\n",
    "\n"
   ]
  },
  {
   "cell_type": "code",
   "execution_count": null,
   "id": "1b608c69",
   "metadata": {},
   "outputs": [],
   "source": [
    "CA_categoricals"
   ]
  },
  {
   "cell_type": "markdown",
   "id": "6130aa66",
   "metadata": {},
   "source": [
    "Ordinal cat: employment_status, month, education, coverage, renew_offer_type, vehicle_size)"
   ]
  },
  {
   "cell_type": "code",
   "execution_count": null,
   "id": "20fe53b4",
   "metadata": {},
   "outputs": [],
   "source": [
    "corr_matrix=CA_numerical.corr().abs()\n",
    "upper_triangle=corr_matrix.where(np.triu(np.ones(corr_matrix.shape),k=1).astype(bool))\n",
    "[column for column in upper_triangle.columns if any(upper_triangle[column] > 0.80)]"
   ]
  },
  {
   "cell_type": "code",
   "execution_count": null,
   "id": "61504c1e",
   "metadata": {},
   "outputs": [],
   "source": [
    "upper_triangle=corr_matrix.where(np.triu(np.ones(corr_matrix.shape),k=1).astype(bool))\n",
    "[column for column in upper_triangle.columns if any(upper_triangle[column] > 0.80)]"
   ]
  },
  {
   "cell_type": "code",
   "execution_count": null,
   "id": "721aec32",
   "metadata": {},
   "outputs": [],
   "source": [
    "def remove_outliers(CA_numerical, q=0.05):\n",
    "    upper = CA_numerical.quantile(1-q)\n",
    "    lower = CA_numerical.quantile(q)\n",
    "    mask = (CA_numerical < upper) & (CA_numerical > lower)\n",
    "    return mask"
   ]
  },
  {
   "cell_type": "code",
   "execution_count": null,
   "id": "07dc31f1",
   "metadata": {},
   "outputs": [],
   "source": [
    "X=CA_df.drop('total_claim_amount', axis=1)\n",
    "y=CA_df.total_claim_amount"
   ]
  },
  {
   "cell_type": "code",
   "execution_count": null,
   "id": "4d1bbd68",
   "metadata": {},
   "outputs": [],
   "source": [
    "X=X.get_numeric_data"
   ]
  },
  {
   "cell_type": "markdown",
   "id": "61e38c51",
   "metadata": {},
   "source": [
    "## Activity 7 \n",
    "- Train-test split.\n",
    "- Standardize the data (after the data split).\n",
    "- Apply linear regression.\n",
    "- Model Interpretation."
   ]
  },
  {
   "cell_type": "code",
   "execution_count": null,
   "id": "71da9952",
   "metadata": {},
   "outputs": [],
   "source": []
  }
 ],
 "metadata": {
  "kernelspec": {
   "display_name": "Python 3 (ipykernel)",
   "language": "python",
   "name": "python3"
  },
  "language_info": {
   "codemirror_mode": {
    "name": "ipython",
    "version": 3
   },
   "file_extension": ".py",
   "mimetype": "text/x-python",
   "name": "python",
   "nbconvert_exporter": "python",
   "pygments_lexer": "ipython3",
   "version": "3.9.7"
  }
 },
 "nbformat": 4,
 "nbformat_minor": 5
}
