{
 "cells": [
  {
   "cell_type": "markdown",
   "id": "81c931a3",
   "metadata": {},
   "source": [
    "# This is Christina\n",
    "## Purpose\n",
    "The purpose of this notebook is to introduce Christina."
   ]
  },
  {
   "cell_type": "code",
   "execution_count": 23,
   "id": "ee93e088",
   "metadata": {},
   "outputs": [
    {
     "name": "stdout",
     "output_type": "stream",
     "text": [
      "Who is this presentation about? Christina\n",
      "The presentation is about Christina!\n"
     ]
    }
   ],
   "source": [
    "name=input(\"Who is this presentation about? \")\n",
    "if name==\"Christina\":\n",
    "    print(\"The presentation is about Christina!\")\n",
    "else:\n",
    "    print(\"Try again!\")\n",
    "    name=input(\"Who is this presentation about? \")"
   ]
  },
  {
   "cell_type": "markdown",
   "id": "61ff6c93",
   "metadata": {},
   "source": [
    "## Picture\n",
    "\n",
    "![alt text](https://images.pexels.com/photos/7495883/pexels-photo-7495883.jpeg?auto=compress&cs=tinysrgb&dpr=3&h=750&w=1260)\n"
   ]
  },
  {
   "cell_type": "markdown",
   "id": "2567a767",
   "metadata": {},
   "source": [
    "## Holiday Preference"
   ]
  },
  {
   "cell_type": "markdown",
   "id": "8f308d69",
   "metadata": {},
   "source": [
    "### Can you guess where?"
   ]
  },
  {
   "cell_type": "code",
   "execution_count": 24,
   "id": "e16ef988",
   "metadata": {},
   "outputs": [
    {
     "name": "stdout",
     "output_type": "stream",
     "text": [
      "Where does Christina like traveling the most? What is her favourite country?France\n",
      "You got it wrong!\n"
     ]
    }
   ],
   "source": [
    "Holidaypreference=input(\"Where does Christina like traveling the most? What is her favourite country?\")\n",
    "if Holidaypreference==\"Spain\":\n",
    "    print(\"You got it right!\")\n",
    "else:\n",
    "    print(\"You got it wrong!\")"
   ]
  },
  {
   "cell_type": "code",
   "execution_count": 25,
   "id": "364568cb",
   "metadata": {},
   "outputs": [
    {
     "name": "stdout",
     "output_type": "stream",
     "text": [
      "Tipp: Its a hot country in Europe!Italy\n",
      "You got it wrong!Try again!\n"
     ]
    }
   ],
   "source": [
    "Holidaypreference2=input(\"Tipp: Its a hot country in Europe!\")\n",
    "if Holidaypreference2==\"Spain\":\n",
    "    print(\"You got it right\")\n",
    "else: \n",
    "    print(\"You got it wrong!Try again!\")"
   ]
  },
  {
   "cell_type": "code",
   "execution_count": 27,
   "id": "f2b61716",
   "metadata": {},
   "outputs": [
    {
     "name": "stdout",
     "output_type": "stream",
     "text": [
      "Tipp: Its a country in Europe! And starts with a 'S'Spain\n",
      "You got it right!\n"
     ]
    }
   ],
   "source": [
    "Holidaypreference3=input(\"Tipp: Its a country in Europe! And starts with a 'S'\")\n",
    "if Holidaypreference3==\"Spain\":\n",
    "    print(\"You got it right!\")\n",
    "else:\n",
    "    print(\"You failed again. It's Spain\")"
   ]
  },
  {
   "cell_type": "markdown",
   "id": "0045e1ba",
   "metadata": {},
   "source": [
    "### Picture of Bilbao"
   ]
  },
  {
   "cell_type": "markdown",
   "id": "a2fc0e9d",
   "metadata": {},
   "source": [
    "![alt text](data:image/jpeg;base64,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)"
   ]
  },
  {
   "cell_type": "markdown",
   "id": "ac49f4e7",
   "metadata": {},
   "source": [
    "### Her favourite things to do while traveling:\n",
    "\n",
    "1. Visiting museums\n",
    "2. Strolling through the city\n",
    "3. Try typicial foods"
   ]
  },
  {
   "cell_type": "code",
   "execution_count": null,
   "id": "051b3a08",
   "metadata": {},
   "outputs": [],
   "source": []
  }
 ],
 "metadata": {
  "kernelspec": {
   "display_name": "Python 3 (ipykernel)",
   "language": "python",
   "name": "python3"
  },
  "language_info": {
   "codemirror_mode": {
    "name": "ipython",
    "version": 3
   },
   "file_extension": ".py",
   "mimetype": "text/x-python",
   "name": "python",
   "nbconvert_exporter": "python",
   "pygments_lexer": "ipython3",
   "version": "3.9.7"
  }
 },
 "nbformat": 4,
 "nbformat_minor": 5
}
