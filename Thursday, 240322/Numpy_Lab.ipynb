{
 "cells": [
  {
   "cell_type": "code",
   "execution_count": 30,
   "id": "9b798df9",
   "metadata": {},
   "outputs": [],
   "source": [
    "import numpy as np"
   ]
  },
  {
   "cell_type": "code",
   "execution_count": 31,
   "id": "660ee5ad",
   "metadata": {},
   "outputs": [
    {
     "data": {
      "text/plain": [
       "array([0., 0., 0., 0., 0., 0., 0., 0., 0., 0.])"
      ]
     },
     "execution_count": 31,
     "metadata": {},
     "output_type": "execute_result"
    }
   ],
   "source": [
    "x=np.zeros(10)\n",
    "x"
   ]
  },
  {
   "cell_type": "code",
   "execution_count": 32,
   "id": "679360a4",
   "metadata": {},
   "outputs": [
    {
     "data": {
      "text/plain": [
       "array([0., 0., 0., 0., 0., 1., 0., 0., 0., 0.])"
      ]
     },
     "execution_count": 32,
     "metadata": {},
     "output_type": "execute_result"
    }
   ],
   "source": [
    "y=np.zeros(10)\n",
    "y[5]=1\n",
    "y"
   ]
  },
  {
   "cell_type": "code",
   "execution_count": 33,
   "id": "c451911d",
   "metadata": {},
   "outputs": [
    {
     "data": {
      "text/plain": [
       "array([10, 11, 12, 13, 14, 15, 16, 17, 18, 19, 20, 21, 22, 23, 24, 25, 26,\n",
       "       27, 28, 29, 30, 31, 32, 33, 34, 35, 36, 37, 38, 39, 40, 41, 42, 43,\n",
       "       44, 45, 46, 47, 48, 49])"
      ]
     },
     "execution_count": 33,
     "metadata": {},
     "output_type": "execute_result"
    }
   ],
   "source": [
    "z=np.arange(10,50)\n",
    "z"
   ]
  },
  {
   "cell_type": "code",
   "execution_count": 34,
   "id": "b4a484bb",
   "metadata": {},
   "outputs": [
    {
     "data": {
      "text/plain": [
       "array([[0, 1, 3],\n",
       "       [4, 5, 6],\n",
       "       [7, 8, 1]])"
      ]
     },
     "execution_count": 34,
     "metadata": {},
     "output_type": "execute_result"
    }
   ],
   "source": [
    "a=np.array([[0,1,3],[4,5,6],[7,8,1]])\n",
    "a"
   ]
  },
  {
   "cell_type": "code",
   "execution_count": 39,
   "id": "99c249cf",
   "metadata": {},
   "outputs": [
    {
     "ename": "TypeError",
     "evalue": "only integer scalar arrays can be converted to a scalar index",
     "output_type": "error",
     "traceback": [
      "\u001b[0;31m---------------------------------------------------------------------------\u001b[0m",
      "\u001b[0;31mTypeError\u001b[0m                                 Traceback (most recent call last)",
      "\u001b[0;32m/var/folders/r9/4d41b7251kd4g8mywhld0w_80000gn/T/ipykernel_1600/1093375082.py\u001b[0m in \u001b[0;36m<module>\u001b[0;34m\u001b[0m\n\u001b[0;32m----> 1\u001b[0;31m \u001b[0ma\u001b[0m\u001b[0;34m=\u001b[0m\u001b[0mnp\u001b[0m\u001b[0;34m.\u001b[0m\u001b[0meye\u001b[0m\u001b[0;34m(\u001b[0m\u001b[0ma\u001b[0m\u001b[0;34m)\u001b[0m\u001b[0;34m\u001b[0m\u001b[0;34m\u001b[0m\u001b[0m\n\u001b[0m",
      "\u001b[0;32m~/opt/anaconda3/lib/python3.9/site-packages/numpy/lib/twodim_base.py\u001b[0m in \u001b[0;36meye\u001b[0;34m(N, M, k, dtype, order, like)\u001b[0m\n\u001b[1;32m    207\u001b[0m     \u001b[0;32mif\u001b[0m \u001b[0mM\u001b[0m \u001b[0;32mis\u001b[0m \u001b[0;32mNone\u001b[0m\u001b[0;34m:\u001b[0m\u001b[0;34m\u001b[0m\u001b[0;34m\u001b[0m\u001b[0m\n\u001b[1;32m    208\u001b[0m         \u001b[0mM\u001b[0m \u001b[0;34m=\u001b[0m \u001b[0mN\u001b[0m\u001b[0;34m\u001b[0m\u001b[0;34m\u001b[0m\u001b[0m\n\u001b[0;32m--> 209\u001b[0;31m     \u001b[0mm\u001b[0m \u001b[0;34m=\u001b[0m \u001b[0mzeros\u001b[0m\u001b[0;34m(\u001b[0m\u001b[0;34m(\u001b[0m\u001b[0mN\u001b[0m\u001b[0;34m,\u001b[0m \u001b[0mM\u001b[0m\u001b[0;34m)\u001b[0m\u001b[0;34m,\u001b[0m \u001b[0mdtype\u001b[0m\u001b[0;34m=\u001b[0m\u001b[0mdtype\u001b[0m\u001b[0;34m,\u001b[0m \u001b[0morder\u001b[0m\u001b[0;34m=\u001b[0m\u001b[0morder\u001b[0m\u001b[0;34m)\u001b[0m\u001b[0;34m\u001b[0m\u001b[0;34m\u001b[0m\u001b[0m\n\u001b[0m\u001b[1;32m    210\u001b[0m     \u001b[0;32mif\u001b[0m \u001b[0mk\u001b[0m \u001b[0;34m>=\u001b[0m \u001b[0mM\u001b[0m\u001b[0;34m:\u001b[0m\u001b[0;34m\u001b[0m\u001b[0;34m\u001b[0m\u001b[0m\n\u001b[1;32m    211\u001b[0m         \u001b[0;32mreturn\u001b[0m \u001b[0mm\u001b[0m\u001b[0;34m\u001b[0m\u001b[0;34m\u001b[0m\u001b[0m\n",
      "\u001b[0;31mTypeError\u001b[0m: only integer scalar arrays can be converted to a scalar index"
     ]
    }
   ],
   "source": []
  },
  {
   "cell_type": "code",
   "execution_count": 35,
   "id": "30a59513",
   "metadata": {},
   "outputs": [
    {
     "data": {
      "text/plain": [
       "array([1, 3, 4, 5, 6, 7, 8, 1])"
      ]
     },
     "execution_count": 35,
     "metadata": {},
     "output_type": "execute_result"
    }
   ],
   "source": [
    "a[np.nonzero(a)]"
   ]
  },
  {
   "cell_type": "code",
   "execution_count": 36,
   "id": "e5b9cf30",
   "metadata": {},
   "outputs": [
    {
     "data": {
      "text/plain": [
       "array([1, 2, 4])"
      ]
     },
     "execution_count": 36,
     "metadata": {},
     "output_type": "execute_result"
    }
   ],
   "source": [
    "b = np.array([1,2,0,0,4,0])\n",
    "b[np.nonzero(b)]"
   ]
  },
  {
   "cell_type": "code",
   "execution_count": 43,
   "id": "90c288b6",
   "metadata": {},
   "outputs": [
    {
     "data": {
      "text/plain": [
       "array([[1., 0., 0.],\n",
       "       [0., 1., 0.],\n",
       "       [0., 0., 1.]])"
      ]
     },
     "execution_count": 43,
     "metadata": {},
     "output_type": "execute_result"
    }
   ],
   "source": [
    "c=np.identity(3)\n",
    "c"
   ]
  },
  {
   "cell_type": "code",
   "execution_count": 51,
   "id": "b6db23af",
   "metadata": {},
   "outputs": [
    {
     "data": {
      "text/plain": [
       "array([[[0.65229471, 0.245265  , 0.55858521],\n",
       "        [0.34082509, 0.11647869, 0.60590884],\n",
       "        [0.8222671 , 0.15863501, 0.60909976]],\n",
       "\n",
       "       [[0.67448334, 0.3977131 , 0.84143537],\n",
       "        [0.9262484 , 0.97151659, 0.86550379],\n",
       "        [0.82042527, 0.70813385, 0.62632531]],\n",
       "\n",
       "       [[0.22397371, 0.17211879, 0.17076944],\n",
       "        [0.49182238, 0.19772557, 0.49915883],\n",
       "        [0.76336223, 0.97805285, 0.59403846]]])"
      ]
     },
     "execution_count": 51,
     "metadata": {},
     "output_type": "execute_result"
    }
   ],
   "source": [
    "d=np.random.random((3,3,3))\n",
    "d"
   ]
  },
  {
   "cell_type": "code",
   "execution_count": 53,
   "id": "5ee949ee",
   "metadata": {},
   "outputs": [
    {
     "data": {
      "text/plain": [
       "array([[0.5546342 , 0.73277194, 0.87320301, 0.40682648, 0.34843382,\n",
       "        0.92466603, 0.58140087, 0.87230106, 0.98081803, 0.85794928],\n",
       "       [0.81656434, 0.27790341, 0.84241874, 0.12818655, 0.85843108,\n",
       "        0.91491332, 0.48369104, 0.86873731, 0.01901843, 0.46482633],\n",
       "       [0.94454761, 0.65254311, 0.18671382, 0.60487944, 0.23293416,\n",
       "        0.9216016 , 0.54328246, 0.97515715, 0.6674615 , 0.03859107],\n",
       "       [0.30358662, 0.09424466, 0.5436665 , 0.13002551, 0.10463666,\n",
       "        0.2166932 , 0.16842328, 0.56650583, 0.9759459 , 0.18059046],\n",
       "       [0.91788151, 0.37440525, 0.17589001, 0.20073516, 0.30052102,\n",
       "        0.06009937, 0.55406632, 0.56064804, 0.79279796, 0.41903522],\n",
       "       [0.82274521, 0.01177648, 0.81982974, 0.38772193, 0.79063861,\n",
       "        0.07316102, 0.98868542, 0.59013026, 0.80462372, 0.95702482],\n",
       "       [0.11395083, 0.78301245, 0.71858272, 0.11644167, 0.73996436,\n",
       "        0.38105411, 0.83683512, 0.25088249, 0.59428444, 0.84580993],\n",
       "       [0.43742682, 0.78943872, 0.20154772, 0.98773332, 0.69170673,\n",
       "        0.27182739, 0.76219978, 0.10220267, 0.21773914, 0.35734466],\n",
       "       [0.24764604, 0.79319021, 0.20360828, 0.08604534, 0.71966698,\n",
       "        0.0421656 , 0.51370405, 0.38384122, 0.68116   , 0.34992138],\n",
       "       [0.39019714, 0.51949929, 0.68881199, 0.35410781, 0.2160022 ,\n",
       "        0.71372718, 0.85337555, 0.89369469, 0.4655188 , 0.73594575]])"
      ]
     },
     "execution_count": 53,
     "metadata": {},
     "output_type": "execute_result"
    }
   ],
   "source": [
    "e=np.random.random((10,10))\n",
    "e"
   ]
  },
  {
   "cell_type": "code",
   "execution_count": 54,
   "id": "f39d9a3a",
   "metadata": {},
   "outputs": [
    {
     "data": {
      "text/plain": [
       "0.9886854234360404"
      ]
     },
     "execution_count": 54,
     "metadata": {},
     "output_type": "execute_result"
    }
   ],
   "source": [
    "np.amax(e)"
   ]
  },
  {
   "cell_type": "code",
   "execution_count": 55,
   "id": "fe24c08a",
   "metadata": {},
   "outputs": [
    {
     "data": {
      "text/plain": [
       "0.011776479543166296"
      ]
     },
     "execution_count": 55,
     "metadata": {},
     "output_type": "execute_result"
    }
   ],
   "source": [
    "np.amin(e)"
   ]
  },
  {
   "cell_type": "code",
   "execution_count": 56,
   "id": "c0080ec7",
   "metadata": {},
   "outputs": [
    {
     "data": {
      "text/plain": [
       "array([0.21457536, 0.40894285, 0.74606078, 0.74491625, 0.77987524,\n",
       "       0.35963138, 0.04214496, 0.28060171, 0.31220275, 0.53396607,\n",
       "       0.31413128, 0.3939713 , 0.73943702, 0.07689819, 0.44600055,\n",
       "       0.52828626, 0.56944057, 0.45414536, 0.67695964, 0.18319838,\n",
       "       0.28395491, 0.4486843 , 0.88272029, 0.15528477, 0.00609155,\n",
       "       0.53805881, 0.01608249, 0.212042  , 0.07100555, 0.53245959])"
      ]
     },
     "execution_count": 56,
     "metadata": {},
     "output_type": "execute_result"
    }
   ],
   "source": [
    "f=np.random.random(30)\n",
    "f"
   ]
  },
  {
   "cell_type": "code",
   "execution_count": 58,
   "id": "8184bc51",
   "metadata": {},
   "outputs": [
    {
     "data": {
      "text/plain": [
       "0.3983923397459861"
      ]
     },
     "execution_count": 58,
     "metadata": {},
     "output_type": "execute_result"
    }
   ],
   "source": [
    "np.mean(f)"
   ]
  },
  {
   "cell_type": "code",
   "execution_count": 68,
   "id": "c4db6c1a",
   "metadata": {},
   "outputs": [
    {
     "data": {
      "text/plain": [
       "array([[0, 0, 0, 0, 0],\n",
       "       [0, 1, 0, 0, 0],\n",
       "       [0, 0, 2, 0, 0],\n",
       "       [0, 0, 0, 3, 0],\n",
       "       [0, 0, 0, 0, 4]])"
      ]
     },
     "execution_count": 68,
     "metadata": {},
     "output_type": "execute_result"
    }
   ],
   "source": [
    "g=np.diag([0,1,2,3,4])\n",
    "g"
   ]
  },
  {
   "cell_type": "code",
   "execution_count": 78,
   "id": "37447496",
   "metadata": {},
   "outputs": [
    {
     "data": {
      "text/plain": [
       "array([[0.43443225, 0.3810852 , 0.69732251, 0.40289006, 0.05502692],\n",
       "       [0.03550248, 0.40006541, 0.80654925, 0.572962  , 0.01886027],\n",
       "       [0.27505422, 0.23425006, 0.84762319, 0.17116626, 0.08241248],\n",
       "       [0.44169949, 0.20468666, 0.79869661, 0.70761178, 0.29399536],\n",
       "       [0.61580297, 0.92914202, 0.87601238, 0.81895582, 0.13925985]])"
      ]
     },
     "execution_count": 78,
     "metadata": {},
     "output_type": "execute_result"
    }
   ],
   "source": [
    "h=np.random.random((5,5))\n",
    "h"
   ]
  },
  {
   "cell_type": "markdown",
   "id": "447f63f4",
   "metadata": {},
   "source": [
    "## Normalize Matrix"
   ]
  },
  {
   "cell_type": "code",
   "execution_count": 89,
   "id": "4264f53c",
   "metadata": {},
   "outputs": [
    {
     "ename": "NameError",
     "evalue": "name 'random' is not defined",
     "output_type": "error",
     "traceback": [
      "\u001b[0;31m---------------------------------------------------------------------------\u001b[0m",
      "\u001b[0;31mNameError\u001b[0m                                 Traceback (most recent call last)",
      "\u001b[0;32m/var/folders/r9/4d41b7251kd4g8mywhld0w_80000gn/T/ipykernel_1600/1102053190.py\u001b[0m in \u001b[0;36m<module>\u001b[0;34m\u001b[0m\n\u001b[0;32m----> 1\u001b[0;31m \u001b[0mrandom\u001b[0m\u001b[0;34m.\u001b[0m\u001b[0mnormal\u001b[0m\u001b[0;34m(\u001b[0m\u001b[0mh\u001b[0m\u001b[0;34m)\u001b[0m\u001b[0;34m\u001b[0m\u001b[0;34m\u001b[0m\u001b[0m\n\u001b[0m",
      "\u001b[0;31mNameError\u001b[0m: name 'random' is not defined"
     ]
    }
   ],
   "source": [
    "np.mean(h)\n",
    "np.std(h)\n",
    "\n",
    "h_normiert="
   ]
  },
  {
   "cell_type": "code",
   "execution_count": 79,
   "id": "0ac28de5",
   "metadata": {},
   "outputs": [
    {
     "data": {
      "text/plain": [
       "array([[0.45653116, 0.39792617, 0.74533213, 0.42188014, 0.03973127],\n",
       "       [0.01828247, 0.41877709, 0.86532437, 0.60871453, 0.        ],\n",
       "       [0.28144467, 0.23661881, 0.9104466 , 0.16731741, 0.06981597],\n",
       "       [0.46451466, 0.20414161, 0.85669776, 0.75663553, 0.30225267],\n",
       "       [0.65577795, 1.        , 0.94163385, 0.87895375, 0.13226627]])"
      ]
     },
     "execution_count": 79,
     "metadata": {},
     "output_type": "execute_result"
    }
   ],
   "source": [
    "hmax,hmin = h.max(), h.min()\n",
    "h=(h-hmin)/(hmax-hmin)\n",
    "h"
   ]
  },
  {
   "cell_type": "code",
   "execution_count": 93,
   "id": "c796c898",
   "metadata": {},
   "outputs": [
    {
     "data": {
      "text/plain": [
       "array([2, 3, 4])"
      ]
     },
     "execution_count": 93,
     "metadata": {},
     "output_type": "execute_result"
    }
   ],
   "source": [
    "np.intersect1d([1,2,3,4],[2,3,4,5],[3,4,5,6])\n"
   ]
  },
  {
   "cell_type": "code",
   "execution_count": 101,
   "id": "f92c092e",
   "metadata": {},
   "outputs": [
    {
     "data": {
      "text/plain": [
       "array([[0.2568809 , 0.26292187, 0.28669987, 0.36858134, 0.54720032,\n",
       "        0.70191947, 0.81535149, 0.82061967, 0.87463713, 0.92611994],\n",
       "       [0.03443412, 0.11584295, 0.29489216, 0.29805025, 0.39888804,\n",
       "        0.40468518, 0.80299339, 0.83412189, 0.93610561, 0.99350926],\n",
       "       [0.01957472, 0.04651628, 0.15220486, 0.15347426, 0.20336185,\n",
       "        0.76549872, 0.77682774, 0.88721814, 0.91499274, 0.96347417],\n",
       "       [0.0804924 , 0.1394089 , 0.16144138, 0.29032576, 0.4746861 ,\n",
       "        0.59671311, 0.60321059, 0.72753876, 0.82242327, 0.84858869],\n",
       "       [0.08884097, 0.24803504, 0.29536726, 0.36320474, 0.39335499,\n",
       "        0.62675926, 0.72995611, 0.76643958, 0.82579105, 0.99760118],\n",
       "       [0.18158411, 0.25104522, 0.26495762, 0.30399771, 0.5295867 ,\n",
       "        0.60868454, 0.72288888, 0.78440681, 0.88485728, 0.88639188],\n",
       "       [0.21026435, 0.25482074, 0.2708302 , 0.27575153, 0.46202474,\n",
       "        0.65615961, 0.6819287 , 0.76452787, 0.77262577, 0.922383  ],\n",
       "       [0.42581807, 0.4348056 , 0.58811846, 0.67261963, 0.91584726,\n",
       "        0.91832856, 0.94813483, 0.98145208, 0.98664066, 0.99943351],\n",
       "       [0.0152972 , 0.44388729, 0.45579119, 0.57238959, 0.58556827,\n",
       "        0.6934147 , 0.72837867, 0.72962982, 0.78972411, 0.9817348 ],\n",
       "       [0.22819361, 0.31684633, 0.31795643, 0.35276391, 0.43662988,\n",
       "        0.55950705, 0.6330881 , 0.65860611, 0.67431006, 0.90168495]])"
      ]
     },
     "execution_count": 101,
     "metadata": {},
     "output_type": "execute_result"
    }
   ],
   "source": [
    "g=np.random.random((10,10))\n",
    "g.sort()\n",
    "g"
   ]
  },
  {
   "cell_type": "code",
   "execution_count": 141,
   "id": "83dff163",
   "metadata": {},
   "outputs": [
    {
     "ename": "SyntaxError",
     "evalue": "invalid syntax (2012231566.py, line 2)",
     "output_type": "error",
     "traceback": [
      "\u001b[0;36m  File \u001b[0;32m\"/var/folders/r9/4d41b7251kd4g8mywhld0w_80000gn/T/ipykernel_1600/2012231566.py\"\u001b[0;36m, line \u001b[0;32m2\u001b[0m\n\u001b[0;31m    i[(: 10)]=0\u001b[0m\n\u001b[0m       ^\u001b[0m\n\u001b[0;31mSyntaxError\u001b[0m\u001b[0;31m:\u001b[0m invalid syntax\n"
     ]
    }
   ],
   "source": [
    "i=np.random.random((10,10))\n",
    "i[(: 10)]=0"
   ]
  },
  {
   "cell_type": "code",
   "execution_count": 143,
   "id": "d21ccdac",
   "metadata": {},
   "outputs": [
    {
     "data": {
      "text/plain": [
       "array([[-0.27276455,  0.04656059,  0.2906218 , -0.37380771,  0.30938987],\n",
       "       [-0.3856256 ,  0.02662027, -0.1995942 ,  0.2809106 ,  0.27768893],\n",
       "       [ 0.48532862, -0.21479853,  0.11712949, -0.12112887, -0.26653071],\n",
       "       [-0.187104  , -0.1009409 , -0.01556734,  0.0140908 ,  0.28952144],\n",
       "       [-0.38336758, -0.05278784,  0.36031545,  0.12360239, -0.04776243]])"
      ]
     },
     "execution_count": 143,
     "metadata": {},
     "output_type": "execute_result"
    }
   ],
   "source": [
    "k=np.random.random((5,5))\n",
    "l=k-k.mean(axis=1, keepdims=True)\n",
    "l"
   ]
  },
  {
   "cell_type": "code",
   "execution_count": 160,
   "id": "8263a9f5",
   "metadata": {},
   "outputs": [],
   "source": [
    "Z = np.arange(10000)\n",
    "np.random.shuffle(Z)\n",
    "n=5\n",
    "sorted_index_z=np.argsort(z)"
   ]
  },
  {
   "cell_type": "code",
   "execution_count": 161,
   "id": "d3f497b8",
   "metadata": {},
   "outputs": [],
   "source": [
    "sorted_z = z[sorted_index_z]"
   ]
  },
  {
   "cell_type": "code",
   "execution_count": 175,
   "id": "c92a2991",
   "metadata": {},
   "outputs": [
    {
     "data": {
      "text/plain": [
       "array([45, 46, 47, 48, 49])"
      ]
     },
     "execution_count": 175,
     "metadata": {},
     "output_type": "execute_result"
    }
   ],
   "source": [
    "sorted_z[-n: ]"
   ]
  },
  {
   "cell_type": "code",
   "execution_count": 163,
   "id": "799f5fec",
   "metadata": {},
   "outputs": [
    {
     "name": "stdout",
     "output_type": "stream",
     "text": [
      "5 largest value: 10\n"
     ]
    }
   ],
   "source": [
    "print(\"{} largest value:\".format(n),\n",
    "      sorted_z[0])"
   ]
  },
  {
   "cell_type": "code",
   "execution_count": 174,
   "id": "e7b5d38a",
   "metadata": {},
   "outputs": [
    {
     "name": "stdout",
     "output_type": "stream",
     "text": [
      "(array([], dtype=int64), array([], dtype=int64)) 0 [[0.46590969 0.368901   0.69534699]\n",
      " [0.9306955  0.27225961 0.76871741]\n",
      " [0.25125971 0.37708405 0.38230902]\n",
      " [0.02129368 0.12819903 0.74995339]\n",
      " [0.22114121 0.84144248 0.34490508]]\n"
     ]
    }
   ],
   "source": [
    "m=np.random.random((5,3))\n",
    "print(np.where(m > 4),m**2,m)"
   ]
  },
  {
   "cell_type": "code",
   "execution_count": null,
   "id": "c9bb598e",
   "metadata": {},
   "outputs": [],
   "source": []
  }
 ],
 "metadata": {
  "kernelspec": {
   "display_name": "Python 3 (ipykernel)",
   "language": "python",
   "name": "python3"
  },
  "language_info": {
   "codemirror_mode": {
    "name": "ipython",
    "version": 3
   },
   "file_extension": ".py",
   "mimetype": "text/x-python",
   "name": "python",
   "nbconvert_exporter": "python",
   "pygments_lexer": "ipython3",
   "version": "3.9.7"
  }
 },
 "nbformat": 4,
 "nbformat_minor": 5
}
