{
 "cells": [
  {
   "cell_type": "markdown",
   "id": "a92ded0b",
   "metadata": {},
   "source": [
    "## Datetime format (continuation cleaned dataset)\n",
    "- Extract the months from the dataset\n",
    "- store in a separate column\n",
    "- Then filter the data to show only the information for the first quarter (January, February and March)\n",
    "- Hint: If data from March does not exist, consider only January and February."
   ]
  },
  {
   "cell_type": "code",
   "execution_count": 8,
   "id": "6c9fa3f5",
   "metadata": {},
   "outputs": [
    {
     "ename": "NameError",
     "evalue": "name 'CA_df' is not defined",
     "output_type": "error",
     "traceback": [
      "\u001b[0;31m---------------------------------------------------------------------------\u001b[0m",
      "\u001b[0;31mNameError\u001b[0m                                 Traceback (most recent call last)",
      "\u001b[0;32m/var/folders/r9/4d41b7251kd4g8mywhld0w_80000gn/T/ipykernel_2776/4121960338.py\u001b[0m in \u001b[0;36m<module>\u001b[0;34m\u001b[0m\n\u001b[0;32m----> 1\u001b[0;31m \u001b[0mCA_df\u001b[0m\u001b[0;34m\u001b[0m\u001b[0;34m\u001b[0m\u001b[0m\n\u001b[0m",
      "\u001b[0;31mNameError\u001b[0m: name 'CA_df' is not defined"
     ]
    }
   ],
   "source": [
    "CA_df"
   ]
  },
  {
   "cell_type": "code",
   "execution_count": null,
   "id": "05bfbd02",
   "metadata": {},
   "outputs": [],
   "source": [
    "Extracted_Month=CA_df['effective_to_date'].str[0]"
   ]
  },
  {
   "cell_type": "markdown",
   "id": "c7e4d57f",
   "metadata": {},
   "source": [
    "## Car Insurance Viszalization\n",
    "### Preperation\n",
    "\n",
    "1. Import and Concatenate\n",
    "2. Load Data\n",
    "3. Overview Data"
   ]
  },
  {
   "cell_type": "code",
   "execution_count": null,
   "id": "486a52cc",
   "metadata": {},
   "outputs": [],
   "source": [
    "import numpy as np\n",
    "import pandas as pd\n",
    "import matplotlib.pyplot as plt\n",
    "%matplotlib inline\n",
    "import seaborn as sns\n",
    "import statsmodels.api as sm\n",
    "from scipy.stats import boxcox\n",
    "\n",
    "pd.options.display.max_rows = 50"
   ]
  },
  {
   "cell_type": "code",
   "execution_count": null,
   "id": "0744272f",
   "metadata": {},
   "outputs": [],
   "source": [
    "file1 = pd.read_csv('Data_Marketing_Customer_Analysis_Round3.csv')"
   ]
  },
  {
   "cell_type": "code",
   "execution_count": null,
   "id": "815c8027",
   "metadata": {},
   "outputs": [],
   "source": [
    "def load_original_data():\n",
    "    return pd.concat([file1], axis=0)"
   ]
  },
  {
   "cell_type": "code",
   "execution_count": null,
   "id": "c4339cdb",
   "metadata": {},
   "outputs": [],
   "source": [
    "CA_df=load_original_data()"
   ]
  },
  {
   "cell_type": "code",
   "execution_count": null,
   "id": "2400e266",
   "metadata": {},
   "outputs": [],
   "source": [
    "CA_df"
   ]
  },
  {
   "cell_type": "code",
   "execution_count": null,
   "id": "59b0a01c",
   "metadata": {},
   "outputs": [],
   "source": [
    "CA_df.info()"
   ]
  },
  {
   "cell_type": "markdown",
   "id": "86b35112",
   "metadata": {},
   "source": [
    "## Activity 4\n",
    "### 4.1 Create new variables\n",
    "1. Create new numerical variable and set data type to int\n",
    "2. Create new categorical variable and set data type to object"
   ]
  },
  {
   "cell_type": "code",
   "execution_count": 7,
   "id": "32942fbd",
   "metadata": {},
   "outputs": [
    {
     "ename": "NameError",
     "evalue": "name 'CA_df' is not defined",
     "output_type": "error",
     "traceback": [
      "\u001b[0;31m---------------------------------------------------------------------------\u001b[0m",
      "\u001b[0;31mNameError\u001b[0m                                 Traceback (most recent call last)",
      "\u001b[0;32m/var/folders/r9/4d41b7251kd4g8mywhld0w_80000gn/T/ipykernel_2776/2753068873.py\u001b[0m in \u001b[0;36m<module>\u001b[0;34m\u001b[0m\n\u001b[0;32m----> 1\u001b[0;31m \u001b[0mCA_numerical\u001b[0m\u001b[0;34m=\u001b[0m\u001b[0mCA_df\u001b[0m\u001b[0;34m.\u001b[0m\u001b[0mselect_dtypes\u001b[0m\u001b[0;34m(\u001b[0m\u001b[0;34m'int'\u001b[0m\u001b[0;34m)\u001b[0m\u001b[0;34m\u001b[0m\u001b[0;34m\u001b[0m\u001b[0m\n\u001b[0m",
      "\u001b[0;31mNameError\u001b[0m: name 'CA_df' is not defined"
     ]
    }
   ],
   "source": [
    "CA_numerical=CA_df.select_dtypes('int')"
   ]
  },
  {
   "cell_type": "code",
   "execution_count": null,
   "id": "dd9e1012",
   "metadata": {},
   "outputs": [],
   "source": [
    "CA_categoricals=CA_df.select_dtypes('object')"
   ]
  },
  {
   "cell_type": "code",
   "execution_count": null,
   "id": "95fc5a97",
   "metadata": {},
   "outputs": [],
   "source": [
    "sns.pairplot(CA_df)"
   ]
  },
  {
   "cell_type": "markdown",
   "id": "157ef326",
   "metadata": {},
   "source": [
    "### 4.2 Normalitycheck\n",
    "1. Construct distribution plots for numerical variables\n",
    "2. Construct a histogram\n",
    "3. Show distributions of numerical variables that look like normal distributions\n",
    "\n",
    "**Displot created numercical variables with bins of 20**"
   ]
  },
  {
   "cell_type": "code",
   "execution_count": null,
   "id": "af6d06e3",
   "metadata": {},
   "outputs": [],
   "source": [
    "sns.displot((CA_numerical), bins=20)"
   ]
  },
  {
   "cell_type": "markdown",
   "id": "528e6d4c",
   "metadata": {},
   "source": [
    "**Construct histogram with numercial variables**"
   ]
  },
  {
   "cell_type": "code",
   "execution_count": null,
   "id": "22170117",
   "metadata": {},
   "outputs": [],
   "source": [
    "CA_numerical.hist(figsize=(12,12), color ='indigo')"
   ]
  },
  {
   "cell_type": "markdown",
   "id": "035a8d56",
   "metadata": {},
   "source": [
    "**Distribution of numerical variables**"
   ]
  },
  {
   "cell_type": "code",
   "execution_count": null,
   "id": "978bf94d",
   "metadata": {},
   "outputs": [],
   "source": [
    "fig, ax = plt.subplots(3,3,figsize=(12,12))\n",
    "\n",
    "ax[0,0].hist(CA_numerical['income'], color='red')\n",
    "ax[0,0].set_title(\"Income\")\n",
    "ax[0,1].hist(CA_numerical['customer_lifetime_value'], color='blue')\n",
    "ax[0,1].set_title(\"Customer livetime value\")\n",
    "ax[0,2].hist(CA_numerical['monthly_premium_auto'], color='yellow')\n",
    "ax[0,2].set_title('Monthly Premium Auto')\n",
    "ax[1,0].hist(CA_numerical['months_since_last_claim'], color='limegreen')\n",
    "ax[1,0].set_title('Monthly Premium Auto')\n",
    "ax[1,1].hist(CA_numerical['months_since_policy_inception'], color=\"darkorange\")\n",
    "ax[1,1].set_title('Monthly Since Policy Inception')\n",
    "ax[1,2].hist(CA_numerical['number_of_open_complaints'], color=\"violet\")\n",
    "ax[1,2].set_title('Number of open complaints')\n",
    "ax[2,1].hist(CA_numerical['number_of_policies'], color=\"cyan\")\n",
    "ax[2,1].set_title('Number of policies')\n",
    "ax[2,0].hist(CA_numerical['total_claim_amount'], color=\"crimson\")\n",
    "ax[2,0].set_title('total_claim_amount')\n"
   ]
  },
  {
   "cell_type": "markdown",
   "id": "34049a4b",
   "metadata": {},
   "source": [
    "**Playing arround**"
   ]
  },
  {
   "cell_type": "code",
   "execution_count": null,
   "id": "a44cd2e0",
   "metadata": {},
   "outputs": [],
   "source": [
    "ax = CA_numerical.income.plot(kind='kde')\n",
    "CA_numerical.income.plot(kind='hist', bins=40, ax=ax)\n",
    "ax.set_xlabel('Income')"
   ]
  },
  {
   "cell_type": "code",
   "execution_count": null,
   "id": "940bd0bd",
   "metadata": {},
   "outputs": [],
   "source": [
    "sns.histplot(CA_numerical['income'], kde=True, color ='blue')"
   ]
  },
  {
   "cell_type": "code",
   "execution_count": null,
   "id": "0fe9f47a",
   "metadata": {},
   "outputs": [],
   "source": [
    "sns.displot(CA_numerical['customer_lifetime_value'], kde=True)"
   ]
  },
  {
   "cell_type": "markdown",
   "id": "32a6ecb3",
   "metadata": {},
   "source": [
    "### 4.3 Multicollinerarity between features\n",
    "1. Create Heatmap for Correlationmatrix\n",
    "2. Display correlations and check for correlations over 0.9\n",
    "\n",
    "**Corrleationsmatrix**"
   ]
  },
  {
   "cell_type": "code",
   "execution_count": null,
   "id": "dee177fc",
   "metadata": {},
   "outputs": [],
   "source": [
    "corr = CA_numerical.corr()\n",
    "mask = np.zeros_like(corr)\n",
    "mask[np.triu_indices_from(mask)] = True\n",
    "with sns.axes_style(\"white\"):\n",
    "    f, ax = plt.subplots(figsize=(9, 7))\n",
    "    ax = sns.heatmap(corr, mask=mask,cmap='coolwarm', vmin=-1,vmax=1,annot=True, square=True)"
   ]
  },
  {
   "cell_type": "markdown",
   "id": "fc399528",
   "metadata": {},
   "source": [
    "**Corrleationscheck**"
   ]
  },
  {
   "cell_type": "code",
   "execution_count": null,
   "id": "9f3c2c39",
   "metadata": {
    "scrolled": true
   },
   "outputs": [],
   "source": [
    "CA_numerical.corr()"
   ]
  },
  {
   "cell_type": "markdown",
   "id": "7bc721d8",
   "metadata": {},
   "source": [
    "## Activity 5\n",
    "### 5.1 Show a plot of the total number of responses"
   ]
  },
  {
   "cell_type": "code",
   "execution_count": null,
   "id": "2bb9753a",
   "metadata": {},
   "outputs": [],
   "source": [
    "sns.countplot(x ='response', data = CA_df, palette ='pastel')"
   ]
  },
  {
   "cell_type": "markdown",
   "id": "163f6082",
   "metadata": {},
   "source": [
    "### 5.2 Show a plot of the response rate by the sales channel\n",
    "\n",
    "**Split the responses by sales channel**"
   ]
  },
  {
   "cell_type": "code",
   "execution_count": null,
   "id": "c6863738",
   "metadata": {},
   "outputs": [],
   "source": [
    "sns.countplot(data=CA_df,x='response',hue='sales_channel',palette ='Set2')\n",
    "plt.show()"
   ]
  },
  {
   "cell_type": "markdown",
   "id": "092ac043",
   "metadata": {},
   "source": [
    "### 5.3 Show a plot of the response rate by the total claim amount\n",
    "1. Bin total_claim_amount by 4 to check the individual ranges for further labeling\n",
    "2. Create new variable Labels_total_claim\n",
    "3. Create new variable and bin it for categorized total claims\n",
    "4. Split it by response "
   ]
  },
  {
   "cell_type": "code",
   "execution_count": null,
   "id": "31b46b4f",
   "metadata": {},
   "outputs": [],
   "source": [
    "Labels_total_claim=[\"up to 723,25 €\", \"between 723,25 and 1144,5 €\", \"between 1144,5 and 2169,75 €\", \"up to 2893 €\"]"
   ]
  },
  {
   "cell_type": "code",
   "execution_count": null,
   "id": "c4c54bf7",
   "metadata": {},
   "outputs": [],
   "source": [
    "Total_claim_cat=pd.cut(CA_df['total_claim_amount'], 4, labels=Labels_total_claim)"
   ]
  },
  {
   "cell_type": "code",
   "execution_count": null,
   "id": "d04fb825",
   "metadata": {},
   "outputs": [],
   "source": [
    "sns.countplot(data=CA_df,x='response', hue=Total_claim_cat, palette ='Set2')\n",
    "plt.show()"
   ]
  },
  {
   "cell_type": "markdown",
   "id": "f1d82aff",
   "metadata": {},
   "source": [
    "### 5.4 Show a plot of the response rate by income\n",
    "1. Create new variable and label the legend \n",
    "2. Create new variable and bin it by 4 to categorize income \n",
    "3. Split it by response"
   ]
  },
  {
   "cell_type": "code",
   "execution_count": null,
   "id": "0d121359",
   "metadata": {},
   "outputs": [],
   "source": [
    "Labels_income=[\"very low\", \"low\", \"high\", \"very high\"]"
   ]
  },
  {
   "cell_type": "code",
   "execution_count": null,
   "id": "b79a9c21",
   "metadata": {},
   "outputs": [],
   "source": [
    "Income_cat=pd.cut(CA_df['income'],4,labels=Labels_income)\n",
    "Income_cat"
   ]
  },
  {
   "cell_type": "code",
   "execution_count": null,
   "id": "050083b9",
   "metadata": {},
   "outputs": [],
   "source": [
    "CA_df"
   ]
  },
  {
   "cell_type": "code",
   "execution_count": null,
   "id": "efe58d59",
   "metadata": {},
   "outputs": [],
   "source": [
    "sns.countplot(data=CA_df,x='response',hue=Income_cat, \\\n",
    "              palette ='mako')\n",
    "plt.show()"
   ]
  },
  {
   "cell_type": "code",
   "execution_count": null,
   "id": "3df93418",
   "metadata": {},
   "outputs": [],
   "source": []
  }
 ],
 "metadata": {
  "kernelspec": {
   "display_name": "Python 3 (ipykernel)",
   "language": "python",
   "name": "python3"
  },
  "language_info": {
   "codemirror_mode": {
    "name": "ipython",
    "version": 3
   },
   "file_extension": ".py",
   "mimetype": "text/x-python",
   "name": "python",
   "nbconvert_exporter": "python",
   "pygments_lexer": "ipython3",
   "version": "3.9.7"
  }
 },
 "nbformat": 4,
 "nbformat_minor": 5
}
